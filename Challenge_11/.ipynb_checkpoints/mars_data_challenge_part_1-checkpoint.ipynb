{
 "cells": [
  {
   "cell_type": "code",
   "execution_count": 3,
   "id": "03c0aa69-19b4-4eb2-97d3-1d065d308e27",
   "metadata": {},
   "outputs": [],
   "source": [
    "from splinter import Browser\n",
    "from bs4 import BeautifulSoup as soup\n",
    "from webdriver_manager.chrome import ChromeDriverManager\n"
   ]
  },
  {
   "cell_type": "code",
   "execution_count": 5,
   "id": "5d5dcf64-3e81-4519-ba95-9b9bec13a352",
   "metadata": {},
   "outputs": [],
   "source": [
    "executable_path = {'executable_path': ChromeDriverManager().install()}\n",
    "browser = Browser('chrome', **executable_path, headless=False)"
   ]
  },
  {
   "cell_type": "code",
   "execution_count": 6,
   "id": "e99c8e7b-f347-4ffd-a73b-3e451269f910",
   "metadata": {},
   "outputs": [],
   "source": [
    "# Visit the Mars NASA news site\n",
    "url = 'https://redplanetscience.com'\n",
    "browser.visit(url)"
   ]
  },
  {
   "cell_type": "code",
   "execution_count": 7,
   "id": "7eff96ed-5a75-4580-aba4-0606ce1b7a3b",
   "metadata": {},
   "outputs": [],
   "source": [
    "# Get and parse html for BeautifulSoup\n",
    "html = browser.html\n",
    "news_soup = soup(html, 'html.parser')"
   ]
  },
  {
   "cell_type": "code",
   "execution_count": 8,
   "id": "cd380a16-2d95-4810-9f5d-64a2dc41c247",
   "metadata": {},
   "outputs": [],
   "source": [
    "# Get article titles and summary\n",
    "# Titles - div with content_title class\n",
    "# Summary - div with article_teaser_body class\n",
    "titles = news_soup.find_all('div', class_='content_title')\n",
    "summaries = news_soup.find_all('div', class_='article_teaser_body')"
   ]
  },
  {
   "cell_type": "code",
   "execution_count": 9,
   "id": "1fb40b74-cc10-4731-aed7-e4c21244ccdb",
   "metadata": {},
   "outputs": [
    {
     "name": "stdout",
     "output_type": "stream",
     "text": [
      "['NASA Prepares for Moon and Mars With New Addition to Its Deep Space Network', \"NASA's Mars 2020 Comes Full Circle\", 'NASA Moves Forward With Campaign to Return Mars Samples to Earth', \"5 Hidden Gems Are Riding Aboard NASA's Perseverance Rover\", \"NASA InSight's 'Mole' Is Out of Sight\", \"NASA's Mars Reconnaissance Orbiter Undergoes Memory Update\", \"NASA's Treasure Map for Water Ice on Mars\", \"8 Martian Postcards to Celebrate Curiosity's Landing Anniversary\", 'MOXIE Could Help Future Rockets Launch Off Mars', \"NASA's Mars Helicopter Attached to Mars 2020 Rover \", \"The Extraordinary Sample-Gathering System of NASA's Perseverance Mars Rover\", \"NASA's Mars 2020 Rover Closer to Getting Its Name\", '7 Things to Know About the Mars 2020 Perseverance Rover Mission', \"Alabama High School Student Names NASA's Mars Helicopter\", \"NASA's Mars Perseverance Rover Passes Flight Readiness Review\"] 15\n"
     ]
    }
   ],
   "source": [
    "titles_list = [title.text for title in titles]\n",
    "summaries_list = [summary.text for summary in summaries]\n",
    "print(titles_list, len(titles_list))"
   ]
  },
  {
   "cell_type": "code",
   "execution_count": 10,
   "id": "ac6f552c-a5e4-4482-9d21-99f298c3fd4a",
   "metadata": {},
   "outputs": [
    {
     "name": "stdout",
     "output_type": "stream",
     "text": [
      "[{'title': 'NASA Prepares for Moon and Mars With New Addition to Its Deep Space Network', 'preview': 'Robotic spacecraft will be able to communicate with the dish using radio waves and lasers.'}, {'title': \"NASA's Mars 2020 Comes Full Circle\", 'preview': \"Aiming to pinpoint the Martian vehicle's center of gravity, engineers took NASA's 2,300-pound Mars 2020 rover for a spin in the clean room at JPL. \"}, {'title': 'NASA Moves Forward With Campaign to Return Mars Samples to Earth', 'preview': 'During this next phase, the program will mature critical technologies and make critical design decisions as well as assess industry partnerships.'}, {'title': \"5 Hidden Gems Are Riding Aboard NASA's Perseverance Rover\", 'preview': \"The symbols, mottos, and small objects added to the agency's newest Mars rover serve a variety of purposes, from functional to decorative.\"}, {'title': \"NASA InSight's 'Mole' Is Out of Sight\", 'preview': \"Now that the heat probe is just below the Martian surface, InSight's arm will scoop some additional soil on top to help it keep digging so it can take Mars' temperature.\"}, {'title': \"NASA's Mars Reconnaissance Orbiter Undergoes Memory Update\", 'preview': 'Other orbiters will continue relaying data from Mars surface missions for a two-week period.'}, {'title': \"NASA's Treasure Map for Water Ice on Mars\", 'preview': 'A new study identifies frozen water just below the Martian surface, where astronauts could easily dig it up.'}, {'title': \"8 Martian Postcards to Celebrate Curiosity's Landing Anniversary\", 'preview': 'The NASA rover touched down eight years ago, on Aug. 5, 2012, and will soon be joined by a second rover, Perseverance.'}, {'title': 'MOXIE Could Help Future Rockets Launch Off Mars', 'preview': \"NASA's Perseverance rover carries a device to convert Martian air into oxygen that, if produced on a larger scale, could be used not just for breathing, but also for fuel.\"}, {'title': \"NASA's Mars Helicopter Attached to Mars 2020 Rover \", 'preview': 'The helicopter will be first aircraft to perform flight tests on another planet.'}, {'title': \"The Extraordinary Sample-Gathering System of NASA's Perseverance Mars Rover\", 'preview': 'Two astronauts collected Moon rocks on Apollo 11. It will take three robotic systems working together to gather up the first Mars rock samples for return to Earth.'}, {'title': \"NASA's Mars 2020 Rover Closer to Getting Its Name\", 'preview': \"155 students from across the U.S. have been chosen as semifinalists in NASA's essay contest to name the Mars 2020 rover, and see it launch from Cape Canaveral this July.\"}, {'title': '7 Things to Know About the Mars 2020 Perseverance Rover Mission', 'preview': \"NASA's next rover to the Red Planet is slated to launch no earlier than July 30. These highlights will get you up to speed on the ambitious mission.\"}, {'title': \"Alabama High School Student Names NASA's Mars Helicopter\", 'preview': \"Vaneeza Rupani's essay was chosen as the name for the small spacecraft, which will mark NASA's first attempt at powered flight on another planet.\"}, {'title': \"NASA's Mars Perseverance Rover Passes Flight Readiness Review\", 'preview': \"\\u200bThe agency's Mars 2020 mission has one more big prelaunch review – the Launch Readiness Review, on July 27.\"}]\n"
     ]
    }
   ],
   "source": [
    "# Store titles with summaries in dictionary, collect dictionaries into list\n",
    "articles = []\n",
    "\n",
    "for i in range(15):\n",
    "    article = {}\n",
    "    article['title'] = titles_list[i]\n",
    "    article['preview'] = summaries_list[i]\n",
    "    articles.append(article)\n",
    "    \n",
    "print(articles)"
   ]
  },
  {
   "cell_type": "code",
   "execution_count": 12,
   "id": "06d17293-cc6e-46e7-b341-06c48c983d56",
   "metadata": {},
   "outputs": [],
   "source": [
    "## couldn't figure out the JSON export... \n",
    "browser.quit()"
   ]
  },
  {
   "cell_type": "code",
   "execution_count": null,
   "id": "91a53151-5a97-46c7-bdac-96e58a854804",
   "metadata": {},
   "outputs": [],
   "source": []
  }
 ],
 "metadata": {
  "kernelspec": {
   "display_name": "PythonData",
   "language": "python",
   "name": "pythondata"
  },
  "language_info": {
   "codemirror_mode": {
    "name": "ipython",
    "version": 3
   },
   "file_extension": ".py",
   "mimetype": "text/x-python",
   "name": "python",
   "nbconvert_exporter": "python",
   "pygments_lexer": "ipython3",
   "version": "3.7.13"
  }
 },
 "nbformat": 4,
 "nbformat_minor": 5
}
