{
 "cells": [
  {
   "cell_type": "code",
   "execution_count": 1,
   "id": "ada77403",
   "metadata": {},
   "outputs": [],
   "source": [
    "from bs4 import BeautifulSoup as soup"
   ]
  },
  {
   "cell_type": "code",
   "execution_count": 2,
   "id": "cdf3f26f",
   "metadata": {},
   "outputs": [],
   "source": [
    "html = \"\"\"\n",
    "<!DOCTYPE html>\n",
    "<html lang=\"en\">\n",
    "\n",
    "<head>\n",
    "    <meta charset=\"UTF-8\">\n",
    "    <meta http-equiv=\"X-UA-Compatible\" content=\"IE=edge\">\n",
    "    <meta name=\"viewport\" content=\"width=device-width, initial-scale=1.0\">\n",
    "    <title>Document</title>\n",
    "</head>\n",
    "\n",
    "<body>\n",
    "    <h1>pandas</h1>\n",
    "    <blockquote>pandas is a powerful Python data analysis library. </blockquote>\n",
    "\n",
    "    <div id=\"start\" , class=\"section\">\n",
    "        <h3 class=\"section-header\">Getting Started</h3>\n",
    "        <ul class=\"pandas-ul\">\n",
    "            <a href=\"https://pandas.pydata.org/getting_started.html\">\n",
    "                <li>Install pandas</li>\n",
    "            </a>\n",
    "            <a href=\"https://pandas.pydata.org/docs/getting_started/index.html\">\n",
    "                <li>Getting started</li>\n",
    "            </a>\n",
    "        </ul>\n",
    "    </div>\n",
    "\n",
    "    <div id=\"documentation\" , class=\"section\">\n",
    "        <h3 class=\"section-header\">Documentation</h3>\n",
    "        <ul class=\"pandas-ul\">\n",
    "            <a href=\"https://pandas.pydata.org/docs/user_guide/index.html\">\n",
    "                <li>User guide</li>\n",
    "            </a>\n",
    "            <a href=\"https://pandas.pydata.org/docs/reference/index.html\">\n",
    "                <li>API reference</li>\n",
    "            </a>\n",
    "            <a href=\"https://pandas.pydata.org/docs/development/index.html\">\n",
    "                <li>How to contribute to pandas</li>\n",
    "            </a>\n",
    "        </ul>\n",
    "    </div>\n",
    "\n",
    "    <div id=\"community\" , class=\"section\">\n",
    "        <h3 class=\"section-header\">The pandas Community</h3>\n",
    "        <ul class=\"pandas-ul\">\n",
    "            <a href=\"https://pandas.pydata.org/about/index.html\">\n",
    "                <li>More about pandas</li>\n",
    "            </a>\n",
    "            <a href=\"https://stackoverflow.com/questions/tagged/pandas\">\n",
    "                <li>Have questions?</li>\n",
    "            </a>\n",
    "            <a href=\"https://pandas.pydata.org/community/ecosystem.html\">\n",
    "                <li>The pandas ecosystem</li>\n",
    "            </a>\n",
    "        </ul>\n",
    "    </div>\n",
    "</body>\n",
    "\n",
    "</html>\n",
    "\"\"\""
   ]
  },
  {
   "cell_type": "code",
   "execution_count": 3,
   "id": "9a767304",
   "metadata": {},
   "outputs": [],
   "source": [
    "html_soup = soup(html, 'html.parser')"
   ]
  },
  {
   "cell_type": "code",
   "execution_count": 10,
   "id": "64ccc99d",
   "metadata": {},
   "outputs": [
    {
     "data": {
      "text/plain": [
       "['Getting Started', 'Documentation', 'The pandas Community']"
      ]
     },
     "execution_count": 10,
     "metadata": {},
     "output_type": "execute_result"
    }
   ],
   "source": [
    "[x.text for x in html_soup.find_all(\"h3\")]"
   ]
  },
  {
   "cell_type": "code",
   "execution_count": 11,
   "id": "76279cb0",
   "metadata": {},
   "outputs": [],
   "source": [
    "section1 = html_soup.find('div', id=\"start\")"
   ]
  },
  {
   "cell_type": "code",
   "execution_count": 12,
   "id": "3c154840",
   "metadata": {},
   "outputs": [],
   "source": [
    "urls = section1.find_all('a',href=True)"
   ]
  },
  {
   "cell_type": "code",
   "execution_count": 13,
   "id": "0b170772",
   "metadata": {},
   "outputs": [
    {
     "data": {
      "text/plain": [
       "['https://pandas.pydata.org/getting_started.html',\n",
       " 'https://pandas.pydata.org/docs/getting_started/index.html']"
      ]
     },
     "execution_count": 13,
     "metadata": {},
     "output_type": "execute_result"
    }
   ],
   "source": [
    "[x['href']for x in urls]"
   ]
  },
  {
   "cell_type": "code",
   "execution_count": 18,
   "id": "6dc2252f",
   "metadata": {},
   "outputs": [
    {
     "data": {
      "text/plain": [
       "['https://pandas.pydata.org/getting_started.html',\n",
       " 'https://pandas.pydata.org/docs/getting_started/index.html',\n",
       " 'https://pandas.pydata.org/docs/user_guide/index.html',\n",
       " 'https://pandas.pydata.org/docs/reference/index.html',\n",
       " 'https://pandas.pydata.org/docs/development/index.html',\n",
       " 'https://pandas.pydata.org/about/index.html',\n",
       " 'https://stackoverflow.com/questions/tagged/pandas',\n",
       " 'https://pandas.pydata.org/community/ecosystem.html']"
      ]
     },
     "execution_count": 18,
     "metadata": {},
     "output_type": "execute_result"
    }
   ],
   "source": [
    "all_urls = [link['href'] for link in html_soup.find_all('a')]\n",
    "all_urls"
   ]
  },
  {
   "cell_type": "code",
   "execution_count": null,
   "id": "1165086e",
   "metadata": {},
   "outputs": [],
   "source": [
    "all_divs = html.soup"
   ]
  }
 ],
 "metadata": {
  "kernelspec": {
   "display_name": "PythonData",
   "language": "python",
   "name": "pythondata"
  },
  "language_info": {
   "codemirror_mode": {
    "name": "ipython",
    "version": 3
   },
   "file_extension": ".py",
   "mimetype": "text/x-python",
   "name": "python",
   "nbconvert_exporter": "python",
   "pygments_lexer": "ipython3",
   "version": "3.7.13"
  }
 },
 "nbformat": 4,
 "nbformat_minor": 5
}
